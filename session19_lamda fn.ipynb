{
 "cells": [
  {
   "cell_type": "code",
   "execution_count": null,
   "id": "ada83852-0899-47cb-a218-425385bbaf64",
   "metadata": {},
   "outputs": [],
   "source": [
    "- case1:[<output> <forloop>]\n",
    "- case2:[<if output> <if condn><forloop>]\n",
    "- case3:[<if output> <if codn> else<else output> <forloop>]\n",
    "- case4:[<if output> <if codn> else<if output><if condn>else<else out><for loop>]\n"
   ]
  },
  {
   "cell_type": "markdown",
   "id": "44a3fcf3-8ccc-4085-94bd-c8f7781f5c1f",
   "metadata": {},
   "source": [
    "**lamda functions**\n",
    "- lamda functions gives an idea to write a function in a single line\n",
    "- it is also a function\n",
    "- it also have some arguments n outputs\n"
   ]
  },
  {
   "cell_type": "markdown",
   "id": "c77816d2-73a2-4e09-ae95-404a1a4288f4",
   "metadata": {},
   "source": [
    "**pattern-1:function with one arguments**"
   ]
  },
  {
   "cell_type": "code",
   "execution_count": 8,
   "id": "a6d3d514-5205-4037-a70b-ad25d89a6a78",
   "metadata": {},
   "outputs": [
    {
     "data": {
      "text/plain": [
       "100"
      ]
     },
     "execution_count": 8,
     "metadata": {},
     "output_type": "execute_result"
    }
   ],
   "source": [
    "def mul(a):\n",
    "    return (a*a)\n",
    "mul(10)"
   ]
  },
  {
   "cell_type": "code",
   "execution_count": null,
   "id": "5fb37221-fac1-43f1-9afa-f73859aa39a3",
   "metadata": {},
   "outputs": [],
   "source": [
    "#syntax\n",
    "#<function name>=lamda <arg name>:<return output>\n",
    "#function name=mul\n",
    "#arg name=a\n",
    "#return output =a*a\n"
   ]
  },
  {
   "cell_type": "code",
   "execution_count": 14,
   "id": "95b21b91-0fef-46d7-992d-581c3a930ad1",
   "metadata": {},
   "outputs": [
    {
     "data": {
      "text/plain": [
       "400"
      ]
     },
     "execution_count": 14,
     "metadata": {},
     "output_type": "execute_result"
    }
   ],
   "source": [
    "mul=lambda a:a*a\n",
    "mul(20)"
   ]
  },
  {
   "cell_type": "code",
   "execution_count": 16,
   "id": "d58af7e4-ba28-49a4-8450-2c4d94544d11",
   "metadata": {},
   "outputs": [
    {
     "data": {
      "text/plain": [
       "1000"
      ]
     },
     "execution_count": 16,
     "metadata": {},
     "output_type": "execute_result"
    }
   ],
   "source": [
    "def cube(a):\n",
    "    return(a*a*a)\n",
    "cube(10)"
   ]
  },
  {
   "cell_type": "code",
   "execution_count": 46,
   "id": "c4d1e34d-cc40-457c-a326-5269291c4bab",
   "metadata": {},
   "outputs": [
    {
     "data": {
      "text/plain": [
       "125"
      ]
     },
     "execution_count": 46,
     "metadata": {},
     "output_type": "execute_result"
    }
   ],
   "source": [
    "cube=lambda a: a*a*a\n",
    "cube(5)"
   ]
  },
  {
   "cell_type": "markdown",
   "id": "a10cbda7-6243-466a-ba00-9a6884a3c88b",
   "metadata": {},
   "source": [
    "**pattern-2:function with two arguments**"
   ]
  },
  {
   "cell_type": "code",
   "execution_count": 19,
   "id": "d5dbd7b3-5eb5-4573-a048-1648ebe63be5",
   "metadata": {},
   "outputs": [
    {
     "data": {
      "text/plain": [
       "30"
      ]
     },
     "execution_count": 19,
     "metadata": {},
     "output_type": "execute_result"
    }
   ],
   "source": [
    "def add(a,b):\n",
    "    return(a+b)\n",
    "add(10,20)"
   ]
  },
  {
   "cell_type": "code",
   "execution_count": null,
   "id": "b6d52f4e-38d2-48ed-9a5c-644665e4ba42",
   "metadata": {},
   "outputs": [],
   "source": [
    "#syntax:\n",
    "#<function name>=lamda<arg1>,<arg2>:<return output>"
   ]
  },
  {
   "cell_type": "code",
   "execution_count": 31,
   "id": "e98a7fc9-c7ef-4971-aa5d-6f6089ef014f",
   "metadata": {},
   "outputs": [
    {
     "data": {
      "text/plain": [
       "50"
      ]
     },
     "execution_count": 31,
     "metadata": {},
     "output_type": "execute_result"
    }
   ],
   "source": [
    "add=lambda a,b:a+b\n",
    "add(20,30)"
   ]
  },
  {
   "cell_type": "code",
   "execution_count": 27,
   "id": "645cfef2-301b-459b-a1b7-8c6e246aa15c",
   "metadata": {},
   "outputs": [
    {
     "data": {
      "text/plain": [
       "20.0"
      ]
     },
     "execution_count": 27,
     "metadata": {},
     "output_type": "execute_result"
    }
   ],
   "source": [
    "def avg(a,b,c):\n",
    "    return((a+b+c)/3)\n",
    "avg(10,20,30)"
   ]
  },
  {
   "cell_type": "code",
   "execution_count": 35,
   "id": "5f8495a1-202a-41fd-9c73-dab791bed426",
   "metadata": {},
   "outputs": [
    {
     "data": {
      "text/plain": [
       "4.333333333333333"
      ]
     },
     "execution_count": 35,
     "metadata": {},
     "output_type": "execute_result"
    }
   ],
   "source": [
    "avg=lambda a,b,c:(a+b+c)/3\n",
    "avg(1,5,7)"
   ]
  },
  {
   "cell_type": "code",
   "execution_count": 39,
   "id": "24cddb97-bb15-4984-afdd-10d6e25e4fe9",
   "metadata": {},
   "outputs": [
    {
     "data": {
      "text/plain": [
       "4.33"
      ]
     },
     "execution_count": 39,
     "metadata": {},
     "output_type": "execute_result"
    }
   ],
   "source": [
    "avg=lambda a,b,c:round((a+b+c)/3,2)\n",
    "avg(1,5,7)"
   ]
  },
  {
   "cell_type": "markdown",
   "id": "21d84965-6a7a-46f6-bd2b-be19b1658e62",
   "metadata": {},
   "source": [
    "**pattern-3:if-else**"
   ]
  },
  {
   "cell_type": "code",
   "execution_count": 44,
   "id": "192ab8ae-4188-4036-a4e2-8f1cb62af49b",
   "metadata": {},
   "outputs": [
    {
     "data": {
      "text/plain": [
       "20"
      ]
     },
     "execution_count": 44,
     "metadata": {},
     "output_type": "execute_result"
    }
   ],
   "source": [
    "#find the greatest number btw 2 numbers\n",
    "def greater(x,y):\n",
    "    if x>y:\n",
    "        return(x)\n",
    "    else:\n",
    "        return(y)\n",
    "greater(10,20)"
   ]
  },
  {
   "cell_type": "code",
   "execution_count": null,
   "id": "6b9efebc-ed3b-489b-a5d2-001ac1bbcacb",
   "metadata": {},
   "outputs": [],
   "source": [
    "#syntax\n",
    "#<fn name>=lamda<arg1>,<arg2>:<if output><if condn>else<else output>"
   ]
  },
  {
   "cell_type": "code",
   "execution_count": 48,
   "id": "584b1465-3ba1-4c07-9ecc-72e5f92ce80a",
   "metadata": {},
   "outputs": [
    {
     "data": {
      "text/plain": [
       "'20 is greater'"
      ]
     },
     "execution_count": 48,
     "metadata": {},
     "output_type": "execute_result"
    }
   ],
   "source": [
    "greater=lambda x,y:print(f'{x} is greater') if x>y else (f'{y} is greater')\n",
    "greater(10,20)\n",
    "                                                        "
   ]
  },
  {
   "cell_type": "code",
   "execution_count": 50,
   "id": "ac145daf-7508-4aa5-af1b-f3bd69cb9233",
   "metadata": {},
   "outputs": [
    {
     "data": {
      "text/plain": [
       "300"
      ]
     },
     "execution_count": 50,
     "metadata": {},
     "output_type": "execute_result"
    }
   ],
   "source": [
    "#or\n",
    "greater=lambda x,y:x if x>y else y\n",
    "greater(100,300)"
   ]
  },
  {
   "cell_type": "markdown",
   "id": "f52ba14e-b71b-4b3a-ade5-ab24dca2fbe3",
   "metadata": {},
   "source": [
    "**using lists**"
   ]
  },
  {
   "cell_type": "code",
   "execution_count": 53,
   "id": "87696190-bee5-43b2-ba1f-7bb0d113a5b2",
   "metadata": {},
   "outputs": [
    {
     "data": {
      "text/plain": [
       "['Hyd', 'Mumbai', 'Pune', 'Chennai', 'Benguluru']"
      ]
     },
     "execution_count": 53,
     "metadata": {},
     "output_type": "execute_result"
    }
   ],
   "source": [
    "l=['hyd','mumbai','pune','chennai','benguluru']\n",
    "out=[]\n",
    "for i in l:\n",
    "    out.append(i.capitalize())\n",
    "out"
   ]
  },
  {
   "cell_type": "code",
   "execution_count": 55,
   "id": "a53e6e26-c082-4106-bbd8-88e0628a0b77",
   "metadata": {},
   "outputs": [
    {
     "data": {
      "text/plain": [
       "<function __main__.<lambda>(i)>"
      ]
     },
     "execution_count": 55,
     "metadata": {},
     "output_type": "execute_result"
    }
   ],
   "source": [
    "#step-1:\n",
    "#lambda <variable>:<output>\n",
    "lambda i:i.capitalize()"
   ]
  },
  {
   "cell_type": "code",
   "execution_count": 57,
   "id": "075c2191-e99d-4557-ab8c-407be1804653",
   "metadata": {},
   "outputs": [
    {
     "data": {
      "text/plain": [
       "(<function __main__.<lambda>(i)>,\n",
       " ['hyd', 'mumbai', 'pune', 'chennai', 'benguluru'])"
      ]
     },
     "execution_count": 57,
     "metadata": {},
     "output_type": "execute_result"
    }
   ],
   "source": [
    "#step-2:\n",
    "#lambda <variable>:<output>,<list>\n",
    "lambda i:i.capitalize(),l"
   ]
  },
  {
   "cell_type": "markdown",
   "id": "841081fd-51bf-4ec7-9b6a-27c11df7f7c0",
   "metadata": {},
   "source": [
    "**map**"
   ]
  },
  {
   "cell_type": "code",
   "execution_count": 64,
   "id": "da169a19-f345-4ed1-a20e-bc8c3317d1cd",
   "metadata": {},
   "outputs": [
    {
     "data": {
      "text/plain": [
       "<map at 0x1fd91d63070>"
      ]
     },
     "execution_count": 64,
     "metadata": {},
     "output_type": "execute_result"
    }
   ],
   "source": [
    "#step-3:\n",
    "#lambda <variable>:<output>,<list>\n",
    "l=['hyd','mumbai','pune','chennai','benguluru']\n",
    "map(lambda i:i.capitalize(),l)"
   ]
  },
  {
   "cell_type": "code",
   "execution_count": 66,
   "id": "89788164-bf93-4e4f-a0a3-09390a4eb055",
   "metadata": {},
   "outputs": [
    {
     "data": {
      "text/plain": [
       "['Hyd', 'Mumbai', 'Pune', 'Chennai', 'Benguluru']"
      ]
     },
     "execution_count": 66,
     "metadata": {},
     "output_type": "execute_result"
    }
   ],
   "source": [
    "#step-4:\n",
    "#list(map(lambda <variable>:<output>,<list>))\n",
    "l=['hyd','mumbai','pune','chennai','benguluru']\n",
    "list(map(lambda i:i.capitalize(),l))"
   ]
  },
  {
   "cell_type": "code",
   "execution_count": 74,
   "id": "a8ba5509-0e76-425c-8140-019342ef69ee",
   "metadata": {},
   "outputs": [
    {
     "data": {
      "text/plain": [
       "['Hyd', 'Mumbai', 'Pune', 'Chennai', 'Benguluru']"
      ]
     },
     "execution_count": 74,
     "metadata": {},
     "output_type": "execute_result"
    }
   ],
   "source": [
    "l=['hyd','mumbai','pune','chennai','benguluru']\n",
    "list(map(lambda i:i.capitalize(),l))"
   ]
  },
  {
   "cell_type": "code",
   "execution_count": null,
   "id": "b35a42cf-367d-44c0-a48b-153ba6ab74d8",
   "metadata": {},
   "outputs": [],
   "source": [
    "#**steps**\n",
    "lambda i:i.capitalize()\n",
    "lambda i:i.capitalize(),list\n",
    "map(lambda i:i.capitalize(),list)\n",
    "list(map(lambda i:i.capitalize()))"
   ]
  },
  {
   "cell_type": "code",
   "execution_count": 84,
   "id": "5a9b0e46-65d1-459c-9656-708f9822cd50",
   "metadata": {},
   "outputs": [
    {
     "data": {
      "text/plain": [
       "['Hyd', 'Bengaluru', 'Mumbai', 'Chennai']"
      ]
     },
     "execution_count": 84,
     "metadata": {},
     "output_type": "execute_result"
    }
   ],
   "source": [
    "#input=['hyd','bengaluru','mumbai','chennai']\n",
    "#output=['Hyd','Bengaluru','Mumbai','Chennai']\n",
    "input=['hyd','bengaluru','mumbai','chennai']\n",
    "list(map(lambda i:i.capitalize(),input))"
   ]
  },
  {
   "cell_type": "code",
   "execution_count": 88,
   "id": "3ae3bf0a-dc06-4ab0-accd-bfec520c20a3",
   "metadata": {},
   "outputs": [
    {
     "data": {
      "text/plain": [
       "['HYD', 'BENGALURU', 'MUMBAI', 'CHENNAI']"
      ]
     },
     "execution_count": 88,
     "metadata": {},
     "output_type": "execute_result"
    }
   ],
   "source": [
    "#input=['hyd','bengaluru','mumbai','chennai']\n",
    "input=['hyd','bengaluru','mumbai','chennai']\n",
    "list(map(lambda i:i.upper(),input))"
   ]
  },
  {
   "cell_type": "code",
   "execution_count": 128,
   "id": "41945243-1049-4a41-972f-ee742b318286",
   "metadata": {},
   "outputs": [
    {
     "data": {
      "text/plain": [
       "80"
      ]
     },
     "execution_count": 128,
     "metadata": {},
     "output_type": "execute_result"
    }
   ],
   "source": [
    "l1 = [\"hyd\",\"mumbai\"]\n",
    "list(map(lambda i : i*10,range(len(i))))[-1]"
   ]
  },
  {
   "cell_type": "code",
   "execution_count": 13,
   "id": "a2b20585-b016-49bc-a0d7-0a88002561ae",
   "metadata": {},
   "outputs": [
    {
     "ename": "TypeError",
     "evalue": "'int' object is not iterable",
     "output_type": "error",
     "traceback": [
      "\u001b[1;31m---------------------------------------------------------------------------\u001b[0m",
      "\u001b[1;31mTypeError\u001b[0m                                 Traceback (most recent call last)",
      "Cell \u001b[1;32mIn[13], line 5\u001b[0m\n\u001b[0;32m      3\u001b[0m \u001b[38;5;28minput\u001b[39m\u001b[38;5;241m=\u001b[39m[\u001b[38;5;124m'\u001b[39m\u001b[38;5;124mhyd\u001b[39m\u001b[38;5;124m'\u001b[39m,\u001b[38;5;124m'\u001b[39m\u001b[38;5;124mbengaluru\u001b[39m\u001b[38;5;124m'\u001b[39m,\u001b[38;5;124m'\u001b[39m\u001b[38;5;124mmumbai\u001b[39m\u001b[38;5;124m'\u001b[39m,\u001b[38;5;124m'\u001b[39m\u001b[38;5;124mchennai\u001b[39m\u001b[38;5;124m'\u001b[39m]\n\u001b[0;32m      4\u001b[0m summ\u001b[38;5;241m=\u001b[39m\u001b[38;5;241m0\u001b[39m\n\u001b[1;32m----> 5\u001b[0m \u001b[38;5;28mlist\u001b[39m(\u001b[38;5;28mmap\u001b[39m(\u001b[38;5;28;01mlambda\u001b[39;00m i:summ\u001b[38;5;241m+\u001b[39mi,\u001b[38;5;28mrange\u001b[39m(\u001b[38;5;28mlen\u001b[39m(\u001b[38;5;28minput\u001b[39m)),\u001b[38;5;241m0\u001b[39m))\n",
      "\u001b[1;31mTypeError\u001b[0m: 'int' object is not iterable"
     ]
    }
   ],
   "source": [
    "#input=['hyd','bengaluru','mumbai','chennai']\n",
    "#sum of all indexes\n",
    "input=['hyd','bengaluru','mumbai','chennai']\n",
    "summ=0\n",
    "list(map(lambda i:summ+i,range(len(input)),0))"
   ]
  },
  {
   "cell_type": "code",
   "execution_count": 132,
   "id": "8761a2d9-aa42-4081-9038-36a768014cc0",
   "metadata": {},
   "outputs": [
    {
     "data": {
      "text/plain": [
       "[False, True, False, True]"
      ]
     },
     "execution_count": 132,
     "metadata": {},
     "output_type": "execute_result"
    }
   ],
   "source": [
    "#input=['hyd','beng#aluru','mumbai','chen#nai']\n",
    "input=['hyd','beng#aluru','mumbai','chen#nai']\n",
    "list(map(lambda i:'#' in i,input))"
   ]
  },
  {
   "cell_type": "markdown",
   "id": "79265217-74f1-4615-9135-89ced45a4b04",
   "metadata": {},
   "source": [
    "**filter**"
   ]
  },
  {
   "cell_type": "markdown",
   "id": "3ed47ca3-7384-4ad8-a740-647dc26754b1",
   "metadata": {},
   "source": [
    "-instead of map ,use the filter\n",
    "- filter extract the true values"
   ]
  },
  {
   "cell_type": "code",
   "execution_count": 140,
   "id": "8a376a31-4dfe-4df1-b9bb-0311c5e7a9f3",
   "metadata": {},
   "outputs": [
    {
     "data": {
      "text/plain": [
       "['beng#aluru', 'chen#nai']"
      ]
     },
     "execution_count": 140,
     "metadata": {},
     "output_type": "execute_result"
    }
   ],
   "source": [
    "#input=['hyd','beng#aluru','mumbai','chen#nai']\n",
    "input=['hyd','beng#aluru','mumbai','chen#nai']\n",
    "list(filter(lambda i:'#' in i,input))"
   ]
  },
  {
   "cell_type": "code",
   "execution_count": 152,
   "id": "dd6c76b0-7f79-48e4-9fe4-21437db5c97b",
   "metadata": {},
   "outputs": [
    {
     "name": "stdout",
     "output_type": "stream",
     "text": [
      "55\n"
     ]
    }
   ],
   "source": [
    "#method-1\n",
    "#sum of first 10 natural numbers\n",
    "summ=0\n",
    "for i in range(1,11):\n",
    "    summ=summ+i\n",
    "print(summ)"
   ]
  },
  {
   "cell_type": "code",
   "execution_count": 156,
   "id": "5c5e95b8-4215-4e64-84e9-09dfc71e92a8",
   "metadata": {},
   "outputs": [
    {
     "data": {
      "text/plain": [
       "55"
      ]
     },
     "execution_count": 156,
     "metadata": {},
     "output_type": "execute_result"
    }
   ],
   "source": [
    "#method-2:(using walrus operators)\n",
    "summ=0\n",
    "[summ:=summ+i for i in range(1,11)][-1]"
   ]
  },
  {
   "cell_type": "markdown",
   "id": "212884a4-2c95-42c3-9419-7cab62b725fc",
   "metadata": {},
   "source": [
    "**reduce**\n",
    "- 'Reduce' is a method in function tools\n",
    "- it takes list as input\n",
    "- means sum of list\n",
    "- if we want to perform math operators like min,max,sum then use reduce\n"
   ]
  },
  {
   "cell_type": "code",
   "execution_count": 15,
   "id": "2900cfb2-5af4-466d-90b1-682c12a50107",
   "metadata": {},
   "outputs": [
    {
     "data": {
      "text/plain": [
       "16"
      ]
     },
     "execution_count": 15,
     "metadata": {},
     "output_type": "execute_result"
    }
   ],
   "source": [
    "#method-3:**reduce**\n",
    "import random\n",
    "random.randint(20,30)\n",
    "   #or\n",
    "\n",
    "from random import randint\n",
    "randint(10,20)"
   ]
  },
  {
   "cell_type": "code",
   "execution_count": 163,
   "id": "f5777615-ae21-494f-a1b5-59872bbb11c4",
   "metadata": {},
   "outputs": [],
   "source": [
    "from functools import reduce"
   ]
  },
  {
   "cell_type": "code",
   "execution_count": 179,
   "id": "ee7e121d-237c-4e3d-a77d-c7dab3925e86",
   "metadata": {},
   "outputs": [
    {
     "data": {
      "text/plain": [
       "150"
      ]
     },
     "execution_count": 179,
     "metadata": {},
     "output_type": "execute_result"
    }
   ],
   "source": [
    "#lambda summ,i:summ+i\n",
    "#lambda summ,i:summ+i,list\n",
    "#reduce(lambda summ,i:summ+i,list)\n",
    "summ=0  #here default summ=0\n",
    "list1=[10,20,30,40,50]\n",
    "reduce(lambda summ,i:summ+i,list1)"
   ]
  },
  {
   "cell_type": "code",
   "execution_count": 181,
   "id": "21362499-37bd-43ca-a9b0-7433e76c129e",
   "metadata": {},
   "outputs": [
    {
     "name": "stdout",
     "output_type": "stream",
     "text": [
      "55\n"
     ]
    },
    {
     "data": {
      "text/plain": [
       "150"
      ]
     },
     "execution_count": 181,
     "metadata": {},
     "output_type": "execute_result"
    }
   ],
   "source": [
    "summ=0\n",
    "for i in range(1,11):\n",
    "    summ=summ+i\n",
    "print(summ)\n",
    "\n",
    "reduce(lambda summ,i:summ+i,list1)"
   ]
  },
  {
   "cell_type": "code",
   "execution_count": 191,
   "id": "ae4d440a-5f3c-4054-b134-e431cc638914",
   "metadata": {},
   "outputs": [
    {
     "data": {
      "text/plain": [
       "155"
      ]
     },
     "execution_count": 191,
     "metadata": {},
     "output_type": "execute_result"
    }
   ],
   "source": [
    "list1=[10,20,30,40,50]\n",
    "reduce(lambda summ,i:summ+i,range(1,11),100)  #setting default sum as 100"
   ]
  },
  {
   "cell_type": "code",
   "execution_count": null,
   "id": "445bb65b-32d7-4ab2-b661-e80c6428b38b",
   "metadata": {},
   "outputs": [],
   "source": []
  }
 ],
 "metadata": {
  "kernelspec": {
   "display_name": "Python [conda env:base] *",
   "language": "python",
   "name": "conda-base-py"
  },
  "language_info": {
   "codemirror_mode": {
    "name": "ipython",
    "version": 3
   },
   "file_extension": ".py",
   "mimetype": "text/x-python",
   "name": "python",
   "nbconvert_exporter": "python",
   "pygments_lexer": "ipython3",
   "version": "3.12.7"
  }
 },
 "nbformat": 4,
 "nbformat_minor": 5
}
