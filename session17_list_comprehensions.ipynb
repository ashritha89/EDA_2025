{
 "cells": [
  {
   "cell_type": "markdown",
   "id": "78bde195-8486-4fdd-bf7a-d862e831741c",
   "metadata": {},
   "source": [
    "- list comprehensions means writing a list operations on a single line\n",
    "- when we use for loop and comnditional stms,the processing time increases\n",
    "- list comprehensions reduce the processing time\n",
    "- very important concept"
   ]
  },
  {
   "cell_type": "markdown",
   "id": "8cf95ae3-a96d-4ebd-96c4-72b98ac01594",
   "metadata": {},
   "source": [
    "**case-1 only for loop**"
   ]
  },
  {
   "cell_type": "code",
   "execution_count": 7,
   "id": "ab01e192-89ad-4d0e-aa68-ad6d0feec9e5",
   "metadata": {},
   "outputs": [
    {
     "data": {
      "text/plain": [
       "[0, 1, 2, 3, 4, 5, 6, 7, 8, 9]"
      ]
     },
     "execution_count": 7,
     "metadata": {},
     "output_type": "execute_result"
    }
   ],
   "source": [
    "l=[]\n",
    "for i in range(10):\n",
    "    l.append(i)\n",
    "l"
   ]
  },
  {
   "cell_type": "markdown",
   "id": "b82139fc-4f70-420f-ab73-d4761c5e7270",
   "metadata": {},
   "source": [
    "l=[<write ur code>]\n",
    "l=[<output> <forloop>] #noneed of using append,:\n",
    "#here output variable is i\n",
    "#for loop:for i in range(10)"
   ]
  },
  {
   "cell_type": "code",
   "execution_count": 13,
   "id": "38475eab-41cc-4eaa-8397-2b44d3fbc973",
   "metadata": {},
   "outputs": [
    {
     "data": {
      "text/plain": [
       "[0, 1, 2, 3, 4, 5, 6, 7, 8, 9]"
      ]
     },
     "execution_count": 13,
     "metadata": {},
     "output_type": "execute_result"
    }
   ],
   "source": [
    "l=[i for i in range (10)]\n",
    "l"
   ]
  },
  {
   "cell_type": "code",
   "execution_count": 35,
   "id": "dee3ee15-472b-4ef4-b40b-72ed389971c0",
   "metadata": {},
   "outputs": [
    {
     "data": {
      "text/plain": [
       "['Hyd', 'Bengaluru', 'Mumbai', 'Chennai']"
      ]
     },
     "execution_count": 35,
     "metadata": {},
     "output_type": "execute_result"
    }
   ],
   "source": [
    "#input=['hyd','bengaluru','mumbai','chennai']\n",
    "#output=['Hyd','Bengaluru','Mumbai','Chennai']\n",
    "\n",
    "input=['hyd','bengaluru','mumbai','chennai']\n",
    "output=[]\n",
    "for i in input:\n",
    "    output.append(i.capitalize())\n",
    "output"
   ]
  },
  {
   "cell_type": "code",
   "execution_count": 37,
   "id": "7008bf22-5b45-42f8-b8f3-a35c0bd2275e",
   "metadata": {},
   "outputs": [
    {
     "data": {
      "text/plain": [
       "['Hyd', 'Bengaluru', 'Mumbai', 'Chennai']"
      ]
     },
     "execution_count": 37,
     "metadata": {},
     "output_type": "execute_result"
    }
   ],
   "source": [
    "#input=['hyd','bengaluru','mumbai','chennai']\n",
    "out=[i.capitalize() for i in input]\n",
    "out"
   ]
  },
  {
   "cell_type": "code",
   "execution_count": 19,
   "id": "a74e3311-7f64-4db9-95e5-37bfd87ed392",
   "metadata": {},
   "outputs": [
    {
     "data": {
      "text/plain": [
       "['__add__',\n",
       " '__class__',\n",
       " '__class_getitem__',\n",
       " '__contains__',\n",
       " '__delattr__',\n",
       " '__delitem__',\n",
       " '__dir__',\n",
       " '__doc__',\n",
       " '__eq__',\n",
       " '__format__',\n",
       " '__ge__',\n",
       " '__getattribute__',\n",
       " '__getitem__',\n",
       " '__getstate__',\n",
       " '__gt__',\n",
       " '__hash__',\n",
       " '__iadd__',\n",
       " '__imul__',\n",
       " '__init__',\n",
       " '__init_subclass__',\n",
       " '__iter__',\n",
       " '__le__',\n",
       " '__len__',\n",
       " '__lt__',\n",
       " '__mul__',\n",
       " '__ne__',\n",
       " '__new__',\n",
       " '__reduce__',\n",
       " '__reduce_ex__',\n",
       " '__repr__',\n",
       " '__reversed__',\n",
       " '__rmul__',\n",
       " '__setattr__',\n",
       " '__setitem__',\n",
       " '__sizeof__',\n",
       " '__str__',\n",
       " '__subclasshook__',\n",
       " 'append',\n",
       " 'clear',\n",
       " 'copy',\n",
       " 'count',\n",
       " 'extend',\n",
       " 'index',\n",
       " 'insert',\n",
       " 'pop',\n",
       " 'remove',\n",
       " 'reverse',\n",
       " 'sort']"
      ]
     },
     "execution_count": 19,
     "metadata": {},
     "output_type": "execute_result"
    }
   ],
   "source": [
    "dir(list)"
   ]
  },
  {
   "cell_type": "code",
   "execution_count": 128,
   "id": "f4860474-bacb-4f82-8a1e-878a3e42e67f",
   "metadata": {},
   "outputs": [
    {
     "data": {
      "text/plain": [
       "['HYD', 'BENGALURU', 'MUMBAI', 'CHENNAI']"
      ]
     },
     "execution_count": 128,
     "metadata": {},
     "output_type": "execute_result"
    }
   ],
   "source": [
    "#input=['hyd','bengaluru','mumbai','chennai']\n",
    "#output=['HYD,'BENGALURU','MUMBAI','CHENNAI']\n",
    "l1=['hyd','bengaluru','mumbai','chennai']\n",
    "out=[i.upper() for i in l1]\n",
    "out"
   ]
  },
  {
   "cell_type": "code",
   "execution_count": 47,
   "id": "c8c12980-82bd-40bf-9336-54a714e16473",
   "metadata": {},
   "outputs": [
    {
     "name": "stdout",
     "output_type": "stream",
     "text": [
      "0\n",
      "10\n",
      "20\n",
      "30\n"
     ]
    },
    {
     "data": {
      "text/plain": [
       "60"
      ]
     },
     "execution_count": 47,
     "metadata": {},
     "output_type": "execute_result"
    }
   ],
   "source": [
    "#3input=['hyd','bengaluru','mumbai','chennai']\n",
    "input=['hyd','bengaluru','mumbai','chennai']\n",
    "for i in input:\n",
    "    print(input.index(i)*10)\n",
    "    \n",
    "output=[input.index(i)*10 for i in input]\n",
    "sum(output)"
   ]
  },
  {
   "cell_type": "markdown",
   "id": "31bd45a4-3e0c-4ffc-bfee-cc426d4c40d1",
   "metadata": {},
   "source": [
    "**valrus operator**"
   ]
  },
  {
   "cell_type": "code",
   "execution_count": 60,
   "id": "f219ad45-bb56-4e00-ad22-e90bc2875d88",
   "metadata": {},
   "outputs": [
    {
     "name": "stdout",
     "output_type": "stream",
     "text": [
      "55\n"
     ]
    }
   ],
   "source": [
    "#4sum of first natural numbers\n",
    "summ=0\n",
    "for i in range(1,11):\n",
    "    summ=summ+i\n",
    "print(summ)"
   ]
  },
  {
   "cell_type": "code",
   "execution_count": 56,
   "id": "b14e4fb1-7102-42a9-93e6-a78daa478b03",
   "metadata": {},
   "outputs": [
    {
     "data": {
      "text/plain": [
       "55"
      ]
     },
     "execution_count": 56,
     "metadata": {},
     "output_type": "execute_result"
    }
   ],
   "source": [
    "summ=0\n",
    "[summ:=summ+i for i in range(1,11)][-1]"
   ]
  },
  {
   "cell_type": "markdown",
   "id": "4a2f35aa-f41c-45da-b91a-caa1587c7c6c",
   "metadata": {},
   "source": [
    "**case-2:for loop and if**"
   ]
  },
  {
   "cell_type": "code",
   "execution_count": null,
   "id": "dbf7225c-a531-4b5b-a4ba-ea50a0fa6d0e",
   "metadata": {},
   "outputs": [],
   "source": [
    "case1:[<output> <for loop>]\n",
    "case-2[<output> <for loop> <if condn>]"
   ]
  },
  {
   "cell_type": "code",
   "execution_count": 74,
   "id": "1b5d6cd7-7aed-48f7-8b3a-a8973a17d197",
   "metadata": {},
   "outputs": [
    {
     "name": "stdout",
     "output_type": "stream",
     "text": [
      "beng#aluru\n",
      "chen#nai\n"
     ]
    }
   ],
   "source": [
    "#5input=['hyd','bengaluru','mumbai','chennai']\n",
    "#output=['beng#aluru','chen#nai']\n",
    "\n",
    "l1=['hyd','beng#aluru','mumbai','chen#nai']\n",
    "for i in l1:\n",
    "    if'#' in i:\n",
    "        print(i)\n",
    "\n",
    "l1=['hyd','beng#aluru','mumbai','chen#nai']\n",
    "l2=[i for i in l1 if '#' in i]\n"
   ]
  },
  {
   "cell_type": "code",
   "execution_count": 80,
   "id": "304ebd14-a0be-46e4-bbbf-d16d4424cbbd",
   "metadata": {},
   "outputs": [
    {
     "data": {
      "text/plain": [
       "['hyd', 'mumbai']"
      ]
     },
     "execution_count": 80,
     "metadata": {},
     "output_type": "execute_result"
    }
   ],
   "source": [
    "#6\n",
    "l1=['hyd','beng#aluru','mumbai','chen#nai']\n",
    "[i for i in l1 if '#' not in i]"
   ]
  },
  {
   "cell_type": "markdown",
   "id": "4ca9f9f8-c6af-44ea-9b57-8a8c23941333",
   "metadata": {},
   "source": [
    "**case-3:for loop ,if condn ,else condn**"
   ]
  },
  {
   "cell_type": "code",
   "execution_count": null,
   "id": "901e4e63-a353-408a-9ac2-637aefaadf52",
   "metadata": {},
   "outputs": [],
   "source": [
    "case-3:[<if out> <if condn> else <else output><for loop>]"
   ]
  },
  {
   "cell_type": "code",
   "execution_count": 91,
   "id": "51371a05-7681-4d15-bce6-93894091ab9c",
   "metadata": {},
   "outputs": [
    {
     "data": {
      "text/plain": [
       "['1:odd',\n",
       " '2:even',\n",
       " '3:odd',\n",
       " '4:even',\n",
       " '5:odd',\n",
       " '6:even',\n",
       " '7:odd',\n",
       " '8:even',\n",
       " '9:odd',\n",
       " '10:even']"
      ]
     },
     "execution_count": 91,
     "metadata": {},
     "output_type": "execute_result"
    }
   ],
   "source": [
    "#implementing even n odd output\n",
    "output=[]\n",
    "for i in range(1,11):\n",
    "    if i%2==0:\n",
    "        output.append(f'{i}:even')\n",
    "    else:\n",
    "        output.append(f'{i}:odd')\n",
    "output\n"
   ]
  },
  {
   "cell_type": "code",
   "execution_count": 97,
   "id": "3d4b97b3-f782-4126-92e4-9c1b2f2a403d",
   "metadata": {},
   "outputs": [
    {
     "data": {
      "text/plain": [
       "['1:odd',\n",
       " '2:even',\n",
       " '3:odd',\n",
       " '4:even',\n",
       " '5:odd',\n",
       " '6:even',\n",
       " '7:odd',\n",
       " '8:even',\n",
       " '9:odd',\n",
       " '10:even']"
      ]
     },
     "execution_count": 97,
     "metadata": {},
     "output_type": "execute_result"
    }
   ],
   "source": [
    "[f'{i}:even' if i%2==0\\\n",
    " else f'{i}:odd'\\\n",
    " for i in range(1,11)]"
   ]
  },
  {
   "cell_type": "markdown",
   "id": "a2fae03f-4372-4675-a9d5-c3b67f07f30e",
   "metadata": {},
   "source": [
    "**case-4:for-if-elif-else**\n",
    "\n",
    "-there is no elif concept in list comprehensions\n",
    "- elif will be written as else+if\n",
    "- elif condn and elif output:else ,if condn ,output"
   ]
  },
  {
   "cell_type": "code",
   "execution_count": null,
   "id": "fe46c839-0ada-41be-a443-553aa687234f",
   "metadata": {},
   "outputs": [],
   "source": [
    "case-4:[<if out> <if condn>else <if out><if condn>else<else out><for loop>]"
   ]
  },
  {
   "cell_type": "code",
   "execution_count": 114,
   "id": "6fa351cc-7e2b-4a12-8c78-de6ef9da2521",
   "metadata": {},
   "outputs": [
    {
     "name": "stdout",
     "output_type": "stream",
     "text": [
      "20:D grade\n",
      "40:D grade\n",
      "60: A grade\n",
      "90: A grade\n"
     ]
    }
   ],
   "source": [
    "#implementing the grade problem\n",
    "#'45: d grade'\n",
    "input=[20,40,60,90]\n",
    "for n in input:\n",
    "    if n>90:\n",
    "        print(f'{n}:distinction')\n",
    "    elif n>50:\n",
    "        print(f'{n}: A grade')\n",
    "    else:\n",
    "        print(f'{n}:D grade')\n",
    "        "
   ]
  },
  {
   "cell_type": "code",
   "execution_count": 120,
   "id": "84a46023-0f2b-4261-bf4d-299786fdb4bf",
   "metadata": {},
   "outputs": [
    {
     "data": {
      "text/plain": [
       "['20:A grade', '40:A grade', '60:A grade', '90:A grade']"
      ]
     },
     "execution_count": 120,
     "metadata": {},
     "output_type": "execute_result"
    }
   ],
   "source": [
    "input=[20,40,60,90]\n",
    "[f'{i}:A grade' if n>=90\\\n",
    " else f'{i}: B grade' if n>=50\\\n",
    " else f'{i}:C grade' for i in input]"
   ]
  },
  {
   "cell_type": "code",
   "execution_count": 134,
   "id": "1e42c86e-c7e4-4a1b-881c-efca64039645",
   "metadata": {},
   "outputs": [
    {
     "data": {
      "text/plain": [
       "[76, 89, 53, 67, 90, 82, 99]"
      ]
     },
     "execution_count": 134,
     "metadata": {},
     "output_type": "execute_result"
    }
   ],
   "source": [
    "#a\n",
    "input=[45,76,89,53,67,90,82,49,33,99]\n",
    "l1=[]\n",
    "for i in input:\n",
    "    if i>=50:\n",
    "        l1.append(i)\n",
    "l1\n",
    "[i for i in input if i>=50]"
   ]
  },
  {
   "cell_type": "code",
   "execution_count": 184,
   "id": "d6fb0e56-ec59-4397-bc34-8374949c888a",
   "metadata": {},
   "outputs": [
    {
     "name": "stdout",
     "output_type": "stream",
     "text": [
      "45:F grade\n",
      "76:F grade\n",
      "89:A grade\n",
      "53:F grade\n",
      "67:F grade\n",
      "90:A grade\n",
      "82:F grade\n",
      "49:F grade\n",
      "33:F grade\n",
      "99:A grade\n"
     ]
    },
    {
     "data": {
      "text/plain": [
       "['45: f grade',\n",
       " '76: f grade',\n",
       " '89:A grade',\n",
       " '53: f grade',\n",
       " '67: f grade',\n",
       " '90:A grade',\n",
       " '82: f grade',\n",
       " '49: f grade',\n",
       " '33: f grade',\n",
       " '99:A grade']"
      ]
     },
     "execution_count": 184,
     "metadata": {},
     "output_type": "execute_result"
    }
   ],
   "source": [
    "#b\n",
    "input=[45,76,89,53,67,90,82,49,33,99]\n",
    "for i in input:\n",
    "    if i>=85:\n",
    "        print(f'{i}:A grade')\n",
    "    elif 70>i>84:\n",
    "        print(f'{i}: B grade')\n",
    "    elif 50>i>69:\n",
    "        print(f'{i}: C grade')\n",
    "    else:\n",
    "        print(f'{i}:F grade')\n",
    "\n",
    "\n",
    "[f'{i}:A grade' if i>=85\\\n",
    " else f'{i}: B grade' if 70>i>84\\\n",
    " else f'{i}: C grade' if 50>i>69\\\n",
    " else f'{i}: f grade' for i in input]"
   ]
  },
  {
   "cell_type": "code",
   "execution_count": 206,
   "id": "d2315276-86b8-4e9c-b56c-918b0316c609",
   "metadata": {},
   "outputs": [
    {
     "name": "stdout",
     "output_type": "stream",
     "text": [
      "[50, 54, 38]\n"
     ]
    },
    {
     "data": {
      "text/plain": [
       "[50, 54, 38]"
      ]
     },
     "execution_count": 206,
     "metadata": {},
     "output_type": "execute_result"
    }
   ],
   "source": [
    "#c adding 5 marks who r less than 50\n",
    "input=[45,76,89,53,67,90,82,49,33,99]\n",
    "out=[]\n",
    "for i in input:\n",
    "    if i<50:\n",
    "        out.append(i+5)\n",
    "print(out)\n",
    "\n",
    "\n",
    "\n",
    "input=[45,76,89,53,67,90,82,49,33,99]\n",
    "out=[]\n",
    "[i+5 for i in input if i<50]\n",
    "    "
   ]
  },
  {
   "cell_type": "code",
   "execution_count": 234,
   "id": "c603fbee-a052-484d-bcff-3723ef88c874",
   "metadata": {},
   "outputs": [
    {
     "data": {
      "text/plain": [
       "['Top scores:', [99, 90, 89]]"
      ]
     },
     "execution_count": 234,
     "metadata": {},
     "output_type": "execute_result"
    }
   ],
   "source": [
    "#d\n",
    "scores = [45, 76, 89, 53, 67, 90, 82, 49, 33, 99]\n",
    "[f'Top scores:', topscores:=sorted(scores,reverse=True)[:3]]\n"
   ]
  },
  {
   "cell_type": "code",
   "execution_count": 278,
   "id": "ca374a20-0961-4fdf-b2ef-af709a0752af",
   "metadata": {},
   "outputs": [
    {
     "data": {
      "text/plain": [
       "['avg marks:68.3']"
      ]
     },
     "execution_count": 278,
     "metadata": {},
     "output_type": "execute_result"
    }
   ],
   "source": [
    "#e avg of marks\n",
    "scores = [45, 76, 89, 53, 67, 90, 82, 49, 33, 99]\n",
    "for i in scores:\n",
    "    avg=sum(scores)/len(scores)\n",
    "avg\n",
    "\n",
    "\n",
    "[f'avg marks:{(avg:=sum(scores)/len(scores))}']"
   ]
  },
  {
   "cell_type": "code",
   "execution_count": null,
   "id": "11e6d784-969e-42f2-97c0-a0623494e29a",
   "metadata": {},
   "outputs": [],
   "source": []
  }
 ],
 "metadata": {
  "kernelspec": {
   "display_name": "Python [conda env:base] *",
   "language": "python",
   "name": "conda-base-py"
  },
  "language_info": {
   "codemirror_mode": {
    "name": "ipython",
    "version": 3
   },
   "file_extension": ".py",
   "mimetype": "text/x-python",
   "name": "python",
   "nbconvert_exporter": "python",
   "pygments_lexer": "ipython3",
   "version": "3.12.7"
  }
 },
 "nbformat": 4,
 "nbformat_minor": 5
}
