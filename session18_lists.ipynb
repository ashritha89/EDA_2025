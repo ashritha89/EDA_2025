{
 "cells": [
  {
   "cell_type": "code",
   "execution_count": 13,
   "id": "fb9b6faa-b6cf-4acb-9f82-0edc00c6d87e",
   "metadata": {},
   "outputs": [
    {
     "name": "stdout",
     "output_type": "stream",
     "text": [
      "ramesh age is:20\n",
      "suresh age is:22\n",
      "mahesh age is:24\n"
     ]
    }
   ],
   "source": [
    "names=['ramesh','suresh','mahesh']\n",
    "age=[20,22,24]\n",
    "for i in range(len(names)):\n",
    "    #print(names[i],age[i])         or\n",
    "    print(f'{names[i]} age is:{age[i]}')\n",
    "\n",
    "    \n",
    "    "
   ]
  },
  {
   "cell_type": "code",
   "execution_count": 1,
   "id": "25baba5c-d49d-4885-a87a-c88b73ef773f",
   "metadata": {},
   "outputs": [
    {
     "name": "stdout",
     "output_type": "stream",
     "text": [
      "[21]\n",
      "[41]\n",
      "[45]\n"
     ]
    }
   ],
   "source": [
    "l1=[10,20,22]\n",
    "l2=[11,21,23]\n",
    "#o/p:l=[21,41,45]\n",
    "l=[]\n",
    "for i in range(len(l1)):\n",
    "    l=l1[i]+l2[i]\n",
    "    print([l])"
   ]
  },
  {
   "cell_type": "code",
   "execution_count": 9,
   "id": "30dcca40-9e55-4ee6-987e-57bf93f3d806",
   "metadata": {},
   "outputs": [
    {
     "data": {
      "text/plain": [
       "[21, 41, 45, 32, 42]"
      ]
     },
     "execution_count": 9,
     "metadata": {},
     "output_type": "execute_result"
    }
   ],
   "source": [
    "l1=[10,20,22,32,42]\n",
    "l2=[11,21,23]\n",
    "l=[21,41,45,32,42]\n",
    "out=[]\n",
    "if len(l1)>len(l2):\n",
    "    for i in range(len(l1)):\n",
    "        if i<len(l2):\n",
    "            out.append(l1[i]+l2[i])\n",
    "        else:\n",
    "            out.append(l1[i])\n",
    "out\n",
    "    "
   ]
  },
  {
   "cell_type": "code",
   "execution_count": 5,
   "id": "9d255847-7c27-4d16-84d1-6210b7937743",
   "metadata": {},
   "outputs": [],
   "source": [
    "#distance between 2 points\n",
    "v1=(3,5) #(x1,y1)\n",
    "v2=(10,20) #(x2,y2)\n",
    "\n"
   ]
  },
  {
   "cell_type": "code",
   "execution_count": 7,
   "id": "24e0b9c2-78d8-4386-aa97-557b0deee8c5",
   "metadata": {},
   "outputs": [
    {
     "data": {
      "text/plain": [
       "16.55294535724685"
      ]
     },
     "execution_count": 7,
     "metadata": {},
     "output_type": "execute_result"
    }
   ],
   "source": [
    "import numpy as np\n",
    "x1,y1=v1[0],v1[1]\n",
    "x2,y2=v2[0],v2[1]\n",
    "sub1=(x2-x1)\n",
    "sub2=(y2-y1)\n",
    "add=np.square(sub1)+np.square(sub2)\n",
    "np.sqrt(add)"
   ]
  },
  {
   "cell_type": "code",
   "execution_count": 39,
   "id": "b7d4bc95-84a0-46e8-820e-daff0805cfd5",
   "metadata": {},
   "outputs": [],
   "source": [
    "#x2-5x+6\n",
    "a,b,c=1,-5,6"
   ]
  },
  {
   "cell_type": "code",
   "execution_count": 43,
   "id": "b6677208-6dc6-4409-aa62-a744dd89a62d",
   "metadata": {},
   "outputs": [
    {
     "name": "stdout",
     "output_type": "stream",
     "text": [
      "4.302775637731995\n",
      "0.6972243622680054\n"
     ]
    }
   ],
   "source": [
    "import numpy as np\n",
    "v1=np.square(b)-4*a*c\n",
    "v2=np.sqrt(v1)\n",
    "nr1=-b+v2\n",
    "nr2=-b-v2\n",
    "dr=2*a\n",
    "c=nr1/dr\n",
    "d=nr2/dr\n",
    "print(c)\n",
    "print(d)"
   ]
  },
  {
   "cell_type": "markdown",
   "id": "d8c8a6cb-a78c-490e-baac-ad0fa59c7ab7",
   "metadata": {},
   "source": [
    "**zip**"
   ]
  },
  {
   "cell_type": "code",
   "execution_count": 46,
   "id": "e7227ca6-04a4-4db1-a9b1-c891033c4d3b",
   "metadata": {},
   "outputs": [
    {
     "name": "stdout",
     "output_type": "stream",
     "text": [
      "('ramesh', 20)\n",
      "('suresh', 22)\n",
      "('mahesh', 24)\n"
     ]
    }
   ],
   "source": [
    "names=['ramesh','suresh','mahesh']\n",
    "age=[20,22,24]\n",
    "for i in zip(names,age):\n",
    "    print(i)"
   ]
  },
  {
   "cell_type": "code",
   "execution_count": 48,
   "id": "361cf23b-918c-4fe5-87e1-115802c51000",
   "metadata": {},
   "outputs": [
    {
     "name": "stdout",
     "output_type": "stream",
     "text": [
      "ramesh age is :20\n",
      "suresh age is :22\n",
      "mahesh age is :24\n"
     ]
    }
   ],
   "source": [
    "names=['ramesh','suresh','mahesh']\n",
    "age=[20,22,24]\n",
    "for i,j in zip(names,age):\n",
    "    print(f'{i} age is :{j}')"
   ]
  },
  {
   "cell_type": "code",
   "execution_count": null,
   "id": "fd4cec74-c219-4a8d-93b6-8cfacc83f6f1",
   "metadata": {},
   "outputs": [],
   "source": []
  }
 ],
 "metadata": {
  "kernelspec": {
   "display_name": "Python [conda env:base] *",
   "language": "python",
   "name": "conda-base-py"
  },
  "language_info": {
   "codemirror_mode": {
    "name": "ipython",
    "version": 3
   },
   "file_extension": ".py",
   "mimetype": "text/x-python",
   "name": "python",
   "nbconvert_exporter": "python",
   "pygments_lexer": "ipython3",
   "version": "3.12.7"
  }
 },
 "nbformat": 4,
 "nbformat_minor": 5
}
